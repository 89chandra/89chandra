{
  "nbformat": 4,
  "nbformat_minor": 0,
  "metadata": {
    "colab": {
      "name": "assignment 2.ipynb",
      "provenance": [],
      "authorship_tag": "ABX9TyP7lGGhyE48Sl3+6z3rsXBw",
      "include_colab_link": true
    },
    "kernelspec": {
      "name": "python3",
      "display_name": "Python 3"
    },
    "language_info": {
      "name": "python"
    }
  },
  "cells": [
    {
      "cell_type": "markdown",
      "metadata": {
        "id": "view-in-github",
        "colab_type": "text"
      },
      "source": [
        "<a href=\"https://colab.research.google.com/github/89chandra/89chandra/blob/main/assignment_2.ipynb\" target=\"_parent\"><img src=\"https://colab.research.google.com/assets/colab-badge.svg\" alt=\"Open In Colab\"/></a>"
      ]
    },
    {
      "cell_type": "code",
      "execution_count": 1,
      "metadata": {
        "colab": {
          "base_uri": "https://localhost:8080/",
          "height": 130
        },
        "id": "n08fiqkYcZgY",
        "outputId": "e8df09e3-feb1-4428-f9d7-6bd0a23b046d"
      },
      "outputs": [
        {
          "output_type": "error",
          "ename": "SyntaxError",
          "evalue": "ignored",
          "traceback": [
            "\u001b[0;36m  File \u001b[0;32m\"<ipython-input-1-76499f6f8905>\"\u001b[0;36m, line \u001b[0;32m49\u001b[0m\n\u001b[0;31m    enter your first name:chandra mohan\u001b[0m\n\u001b[0m             ^\u001b[0m\n\u001b[0;31mSyntaxError\u001b[0m\u001b[0;31m:\u001b[0m invalid syntax\n"
          ]
        }
      ],
      "source": [
        "porosity = (0.5,0.4,0.45,0.47,0.65,0.25,0.351,0.254,0.253,0.784,0.354)\n",
        "\n",
        "porosity = list(porosity)\n",
        "\n",
        "for i in range(11):\n",
        "\n",
        "    porosity[i] = porosity[i]*100\n",
        "\n",
        "porosity = tuple(porosity)\n",
        "\n",
        "#answer-1\n",
        "\n",
        "porosity\n",
        "\n",
        "(50.0,\n",
        " 40.0,\n",
        " 45.0,\n",
        " 47.0,\n",
        " 65.0,\n",
        " 25.0,\n",
        " 35.099999999999994,\n",
        " 25.4,\n",
        " 25.3,\n",
        " 78.4,\n",
        " 35.4)\n",
        "\n",
        "## 2. what will be the output of true+false+true+true\n",
        "\n",
        "1.1\n",
        "\n",
        "2.0\n",
        "\n",
        "3.4\n",
        "\n",
        "4.3\n",
        "\n",
        "4.3\n",
        "\n",
        "# answer-2\n",
        "\n",
        "True+False+True+True\n",
        "\n",
        "3\n",
        "\n",
        "### 3. Take the user's first and last name input and then getting them printed in the reverse order with a space b\\w first name & last name.\n",
        "\n",
        "fn = input(\"enter your first name:\")\n",
        "\n",
        "enter your first name:chandra mohan\n",
        "\n",
        "In = input(\"enter your last name:\")\n",
        "\n",
        "enter your last name:tiwari\n",
        "\n",
        "print(fn[:: -1], In[:: -1])\n",
        "\n",
        "nahom ardnahc irawit\n",
        "\n",
        "Enter your first name: chandra mohan\n",
        "\n",
        "  File \"C:\\Users\\pc\\AppData\\Local\\Temp/ipykernel_5388/839342358.py\", line 1\n",
        "    Enter your first name: chandra mohan tiwari\n",
        "          ^\n",
        "SyntaxError: invalid syntax\n",
        "\n",
        "\n",
        "#### From the given data:\n",
        "\n",
        "4.1 = Acess value of porosity\n",
        "\n",
        "4.2 = Acess value of water_saturation\n",
        "\n",
        "data = {'name':'petroleum',45:{'new':[23,'assignment',[12,'dfd',5,43,{'rock_properties':[{'porosity':0.5,'perm':50}]},{'water_saturation':0.45}]]}}\n",
        "\n",
        "data[45]['new'][2][4]['rock_properties'][0]['porosity']  answer 4.1\n",
        "\n",
        "0.5\n",
        "\n",
        "data[45]['new'][2][5]['water_saturation'] answer  4.2\n",
        "\n",
        "0.45\n",
        "\n",
        "##### IN Given permeability data\n",
        "\n",
        "5.1  How many total values are present\n",
        "\n",
        "5.2  How many unique values are present?\n",
        "\n",
        "​\n",
        "\n",
        "perm = [12,45,12,798,41,121,657,84,534,16587,5,1421,2154,1,2,1,2,1,4,5,4,5,6,8,5,7,44,99,55,66,44,66,22,33,84,16587,798,45,902,784,236,561,852,100021,1421,16587,902,784,236,452,125,42,15,45,123,78,56,15,15,79,465,165,26]\n",
        "\n",
        "len(perm)   answer 5.1 \n",
        "\n",
        "63"
      ]
    }
  ]
}